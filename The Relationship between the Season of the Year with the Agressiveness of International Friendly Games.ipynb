{
 "cells": [
  {
   "cell_type": "markdown",
   "metadata": {},
   "source": [
    "# The Relationship between the Season of the Year and the Agressiveness of International Friendly Games"
   ]
  },
  {
   "cell_type": "markdown",
   "metadata": {},
   "source": [
    "## Possible Ethinical Concerns"
   ]
  },
  {
   "cell_type": "markdown",
   "metadata": {},
   "source": [
    "While this dataset is collected from public domains, but just like challenges with trace data, under such enormous data set, we could have possibilities of algorithmic biases, which could lead to concerns regarding beneficience. Although the name suggests this concern being applicable in machines, with this dataset built upon soccer resutls gained from online media information, such concern possibly exists. A large percentage of the data are related to results between European or Latin America teams. While this might be due to more number of matches from these teams, human biases could play a large role, especially how medias only like to talk about the typical strong teams, usually those of Europe/Latin America. With these biases in humans, the results from our data would likely be biased, and any actions (such as increase of fundings) based on this data would be beneficial to only part of the teams. For example, maybe there are way more matches between African teams not recorded by the data, but with the data collection biased towards European/Latin America tournaments, some African tournaments would receive less fundings. \n",
    "\n",
    "An unethical variable unincluded in the dataset could be the physical status of the team's leading player. Even if this information is avaliable online, we need to get an informed consent from the subjects despite this being an observed study. As these information is a part of someone's privacy, we need to respect other's autonomy, guided under the Belmont Report. Any individual should have the choice to volunteer in a study, and any person can decide whether their personal data should be participating in a study. "
   ]
  },
  {
   "cell_type": "markdown",
   "metadata": {},
   "source": [
    "## My Conceptualization + Cleaning Data Set"
   ]
  },
  {
   "cell_type": "markdown",
   "metadata": {},
   "source": [
    "In this part, we would look at the relationship between the season of the year with the agressiveness of International Friendly games. The variable in \"season of the year\" would be conceptualized as three months out of 12, thus there are 4 seasons. The variable in aggressiveness of the game would be conceptualized as the total scores in goals by both teams on the field. Smaller sum is conceptualized as less competitiveness. The hypothesized causal mechanism behind this relationship is that the friendly games taking place near game seasons (Dec - Feb) would be less aggressive. Since both teams would use the friendly match as a way to practice, and more tactical strategies would be used in these games as opposed to games taking place in a \"off-season,\" where players could play more freely with less attention to strategy in general. Thus, my first step is to find the correlation between \"season of the year\" and the total of home and away scores in friendly matches.\n",
    "\n",
    "Since month is a nominal variable, I have to recategorize them with a new numeric variable: season number. Higher numbers would be closer to \"off seasons\" and lower numbers would be \"game seasons\". March - May: 1 (pre-season); June - August 0 (World Tournaments); September - November: 2 (Continental Matches) December - February  3 (Off-season). By categorizing with this ordering, \"higher seasons\" are associated with \"higher aggressivenss,\" which operationalized from the sum of the friendly matche's home_score and away_score. Moreover, the type of tournament we are measuring is only friendly, and we are only consdiering games after 1930s, since that is when the first major international football tournments (world cup) started."
   ]
  },
  {
   "cell_type": "code",
   "execution_count": 1,
   "metadata": {},
   "outputs": [
    {
     "data": {
      "text/html": [
       "<div>\n",
       "<style scoped>\n",
       "    .dataframe tbody tr th:only-of-type {\n",
       "        vertical-align: middle;\n",
       "    }\n",
       "\n",
       "    .dataframe tbody tr th {\n",
       "        vertical-align: top;\n",
       "    }\n",
       "\n",
       "    .dataframe thead th {\n",
       "        text-align: right;\n",
       "    }\n",
       "</style>\n",
       "<table border=\"1\" class=\"dataframe\">\n",
       "  <thead>\n",
       "    <tr style=\"text-align: right;\">\n",
       "      <th></th>\n",
       "      <th>index</th>\n",
       "      <th>date</th>\n",
       "      <th>home_team</th>\n",
       "      <th>away_team</th>\n",
       "      <th>home_score</th>\n",
       "      <th>away_score</th>\n",
       "      <th>tournament</th>\n",
       "      <th>city</th>\n",
       "      <th>country</th>\n",
       "      <th>neutral</th>\n",
       "      <th>season_num</th>\n",
       "      <th>season_type</th>\n",
       "      <th>scores_total</th>\n",
       "    </tr>\n",
       "  </thead>\n",
       "  <tbody>\n",
       "    <tr>\n",
       "      <th>0</th>\n",
       "      <td>1266</td>\n",
       "      <td>1930-01-01</td>\n",
       "      <td>Spain</td>\n",
       "      <td>Czechoslovakia</td>\n",
       "      <td>1</td>\n",
       "      <td>0</td>\n",
       "      <td>Friendly</td>\n",
       "      <td>Barcelona</td>\n",
       "      <td>Spain</td>\n",
       "      <td>False</td>\n",
       "      <td>3</td>\n",
       "      <td>off-season</td>\n",
       "      <td>1</td>\n",
       "    </tr>\n",
       "    <tr>\n",
       "      <th>1</th>\n",
       "      <td>1267</td>\n",
       "      <td>1930-01-12</td>\n",
       "      <td>Portugal</td>\n",
       "      <td>Czechoslovakia</td>\n",
       "      <td>1</td>\n",
       "      <td>0</td>\n",
       "      <td>Friendly</td>\n",
       "      <td>Lisbon</td>\n",
       "      <td>Portugal</td>\n",
       "      <td>False</td>\n",
       "      <td>3</td>\n",
       "      <td>off-season</td>\n",
       "      <td>1</td>\n",
       "    </tr>\n",
       "    <tr>\n",
       "      <th>2</th>\n",
       "      <td>1270</td>\n",
       "      <td>1930-02-09</td>\n",
       "      <td>Italy</td>\n",
       "      <td>Switzerland</td>\n",
       "      <td>4</td>\n",
       "      <td>2</td>\n",
       "      <td>Friendly</td>\n",
       "      <td>Rome</td>\n",
       "      <td>Italy</td>\n",
       "      <td>False</td>\n",
       "      <td>3</td>\n",
       "      <td>off-season</td>\n",
       "      <td>6</td>\n",
       "    </tr>\n",
       "    <tr>\n",
       "      <th>3</th>\n",
       "      <td>1271</td>\n",
       "      <td>1930-02-16</td>\n",
       "      <td>Kenya</td>\n",
       "      <td>Uganda</td>\n",
       "      <td>0</td>\n",
       "      <td>0</td>\n",
       "      <td>Friendly</td>\n",
       "      <td>Nairobi</td>\n",
       "      <td>Kenya</td>\n",
       "      <td>False</td>\n",
       "      <td>3</td>\n",
       "      <td>off-season</td>\n",
       "      <td>0</td>\n",
       "    </tr>\n",
       "    <tr>\n",
       "      <th>4</th>\n",
       "      <td>1273</td>\n",
       "      <td>1930-02-23</td>\n",
       "      <td>Portugal</td>\n",
       "      <td>France</td>\n",
       "      <td>2</td>\n",
       "      <td>0</td>\n",
       "      <td>Friendly</td>\n",
       "      <td>Porto</td>\n",
       "      <td>Portugal</td>\n",
       "      <td>False</td>\n",
       "      <td>3</td>\n",
       "      <td>off-season</td>\n",
       "      <td>2</td>\n",
       "    </tr>\n",
       "    <tr>\n",
       "      <th>5</th>\n",
       "      <td>1274</td>\n",
       "      <td>1930-03-02</td>\n",
       "      <td>Germany</td>\n",
       "      <td>Italy</td>\n",
       "      <td>0</td>\n",
       "      <td>2</td>\n",
       "      <td>Friendly</td>\n",
       "      <td>Frankfurt am Main</td>\n",
       "      <td>Germany</td>\n",
       "      <td>False</td>\n",
       "      <td>1</td>\n",
       "      <td>pre-season</td>\n",
       "      <td>2</td>\n",
       "    </tr>\n",
       "    <tr>\n",
       "      <th>6</th>\n",
       "      <td>1275</td>\n",
       "      <td>1930-03-23</td>\n",
       "      <td>Czechoslovakia</td>\n",
       "      <td>Austria</td>\n",
       "      <td>2</td>\n",
       "      <td>2</td>\n",
       "      <td>Friendly</td>\n",
       "      <td>Prague</td>\n",
       "      <td>Czechoslovakia</td>\n",
       "      <td>False</td>\n",
       "      <td>1</td>\n",
       "      <td>pre-season</td>\n",
       "      <td>4</td>\n",
       "    </tr>\n",
       "    <tr>\n",
       "      <th>7</th>\n",
       "      <td>1276</td>\n",
       "      <td>1930-03-23</td>\n",
       "      <td>France</td>\n",
       "      <td>Switzerland</td>\n",
       "      <td>3</td>\n",
       "      <td>3</td>\n",
       "      <td>Friendly</td>\n",
       "      <td>Colombes</td>\n",
       "      <td>France</td>\n",
       "      <td>False</td>\n",
       "      <td>1</td>\n",
       "      <td>pre-season</td>\n",
       "      <td>6</td>\n",
       "    </tr>\n",
       "    <tr>\n",
       "      <th>8</th>\n",
       "      <td>1278</td>\n",
       "      <td>1930-04-06</td>\n",
       "      <td>Netherlands</td>\n",
       "      <td>Italy</td>\n",
       "      <td>1</td>\n",
       "      <td>1</td>\n",
       "      <td>Friendly</td>\n",
       "      <td>Amsterdam</td>\n",
       "      <td>Netherlands</td>\n",
       "      <td>False</td>\n",
       "      <td>1</td>\n",
       "      <td>pre-season</td>\n",
       "      <td>2</td>\n",
       "    </tr>\n",
       "    <tr>\n",
       "      <th>9</th>\n",
       "      <td>1279</td>\n",
       "      <td>1930-04-13</td>\n",
       "      <td>France</td>\n",
       "      <td>Belgium</td>\n",
       "      <td>1</td>\n",
       "      <td>6</td>\n",
       "      <td>Friendly</td>\n",
       "      <td>Colombes</td>\n",
       "      <td>France</td>\n",
       "      <td>False</td>\n",
       "      <td>1</td>\n",
       "      <td>pre-season</td>\n",
       "      <td>7</td>\n",
       "    </tr>\n",
       "  </tbody>\n",
       "</table>\n",
       "</div>"
      ],
      "text/plain": [
       "   index        date       home_team       away_team  home_score  away_score  \\\n",
       "0   1266  1930-01-01           Spain  Czechoslovakia           1           0   \n",
       "1   1267  1930-01-12        Portugal  Czechoslovakia           1           0   \n",
       "2   1270  1930-02-09           Italy     Switzerland           4           2   \n",
       "3   1271  1930-02-16           Kenya          Uganda           0           0   \n",
       "4   1273  1930-02-23        Portugal          France           2           0   \n",
       "5   1274  1930-03-02         Germany           Italy           0           2   \n",
       "6   1275  1930-03-23  Czechoslovakia         Austria           2           2   \n",
       "7   1276  1930-03-23          France     Switzerland           3           3   \n",
       "8   1278  1930-04-06     Netherlands           Italy           1           1   \n",
       "9   1279  1930-04-13          France         Belgium           1           6   \n",
       "\n",
       "  tournament               city         country  neutral  season_num  \\\n",
       "0   Friendly          Barcelona           Spain    False           3   \n",
       "1   Friendly             Lisbon        Portugal    False           3   \n",
       "2   Friendly               Rome           Italy    False           3   \n",
       "3   Friendly            Nairobi           Kenya    False           3   \n",
       "4   Friendly              Porto        Portugal    False           3   \n",
       "5   Friendly  Frankfurt am Main         Germany    False           1   \n",
       "6   Friendly             Prague  Czechoslovakia    False           1   \n",
       "7   Friendly           Colombes          France    False           1   \n",
       "8   Friendly          Amsterdam     Netherlands    False           1   \n",
       "9   Friendly           Colombes          France    False           1   \n",
       "\n",
       "  season_type  scores_total  \n",
       "0  off-season             1  \n",
       "1  off-season             1  \n",
       "2  off-season             6  \n",
       "3  off-season             0  \n",
       "4  off-season             2  \n",
       "5  pre-season             2  \n",
       "6  pre-season             4  \n",
       "7  pre-season             6  \n",
       "8  pre-season             2  \n",
       "9  pre-season             7  "
      ]
     },
     "execution_count": 1,
     "metadata": {},
     "output_type": "execute_result"
    }
   ],
   "source": [
    "import numpy as np # import numpy\n",
    "import pandas as pd # import pandas\n",
    "data = pd.read_csv('results.csv') # import the data set\n",
    "season_num = list() # initializee an empty list in season_num\n",
    "season_type = list() # initalize an empty list for holding season_type\n",
    "# loop over our data set, to put desginated month into their classificaitons\n",
    "for i in data['date']:\n",
    "    s = pd.to_datetime(i).month\n",
    "    if s >= 3 and s <= 5:\n",
    "        season_num.append(1)\n",
    "        season_type.append(\"pre-season\")\n",
    "    elif s >= 6 and s <= 8:\n",
    "        season_num.append(0)\n",
    "        season_type.append(\"world tournaments\")\n",
    "    elif s >= 9 and s <= 11:\n",
    "        season_num.append(2)\n",
    "        season_type.append(\"continental matches\")\n",
    "    else:\n",
    "        season_num.append(3)\n",
    "        season_type.append(\"off-season\")\n",
    "# put these two lists as columns in the data set\n",
    "data['season_num'] = season_num\n",
    "data['season_type'] = season_type\n",
    "# initalize another empty list\n",
    "scores_total = list()\n",
    "# loop over the observations, and sum up the scores for home and away\n",
    "for i in range(data.shape[0]):\n",
    "    scores_total.append(data['home_score'][i] + data['away_score'][i])\n",
    "# put scores_total into the dataframe\n",
    "data['scores_total'] = scores_total\n",
    "# intialize another dataframe to hold only friendly matches\n",
    "df_before = data.loc[data['tournament'] == 'Friendly']\n",
    "# intialize another dataframe to hold matches after 1930, since that is when the first offical international football tournaments began\n",
    "df_friendly = df_before.loc[pd.to_datetime(df_before[\"date\"]) >= \"1930\"].copy()\n",
    "# reset the indexes and show the data\n",
    "df_friendly.reset_index(inplace = True)\n",
    "df_friendly.head(10)"
   ]
  },
  {
   "cell_type": "code",
   "execution_count": 2,
   "metadata": {},
   "outputs": [
    {
     "name": "stdout",
     "output_type": "stream",
     "text": [
      "season_num & scores_total:\n",
      "Correlation is: -0.013\n",
      "p-value is: 0.085\n"
     ]
    }
   ],
   "source": [
    "import scipy.stats as sp # import scipy.stats\n",
    "print(\"season_num & scores_total:\")\n",
    "# use the pearsonr function to show the correltion\n",
    "stat, pval = sp.pearsonr(df_friendly['season_num'], df_friendly['scores_total'])\n",
    "print('Correlation is: {:.2}'.format(stat))\n",
    "print('p-value is: {:.2}'.format(pval))"
   ]
  },
  {
   "cell_type": "markdown",
   "metadata": {},
   "source": [
    "## KNN Classification"
   ]
  },
  {
   "cell_type": "markdown",
   "metadata": {},
   "source": [
    "Since we would be using KNN here, our DV would be a cateogrical variable, that is the four seasons as described above, and the numerical IV would be scores_total. Rather than categorizing \"season of the year\" with a numeric ordering, we could use the nominal variable in itself. Moreover, our data frame would still be df_friendly, which only includes friendly games after 1930. "
   ]
  },
  {
   "cell_type": "code",
   "execution_count": 3,
   "metadata": {},
   "outputs": [],
   "source": [
    "from sklearn.model_selection import train_test_split # import for splitting data\n",
    "from sklearn.preprocessing import StandardScaler     # import feature scaling\n",
    "from sklearn import metrics                          # import for evaluation metrics\n",
    "from sklearn.neighbors import KNeighborsClassifier   # import for knn\n",
    "# initialize X and Y values in scores_total and season_type\n",
    "# use the train_test_split function to split into each category\n",
    "X = df_friendly['scores_total'].values    \n",
    "Y = df_friendly['season_type'].values    \n",
    "x_train, x_test, y_train, y_test = train_test_split(X.reshape(-1,1), Y, test_size = 0.20, random_state = 99)\n",
    "# initialize a new scaler and sclae our train/test set\n",
    "scaler = StandardScaler()                \n",
    "scaler.fit(x_train)\n",
    "x_train = scaler.transform(x_train)     \n",
    "x_test = scaler.transform(x_test)"
   ]
  },
  {
   "cell_type": "code",
   "execution_count": 16,
   "metadata": {},
   "outputs": [
    {
     "name": "stdout",
     "output_type": "stream",
     "text": [
      "confusion matrix:\n",
      "[[245 374 180  68]\n",
      " [179 301  99  40]\n",
      " [249 442 203  79]\n",
      " [235 367 137  66]]\n",
      "\n",
      "rows/columns of the confusion matric are in this order: \n"
     ]
    },
    {
     "data": {
      "text/plain": [
       "{'continental matches', 'off-season', 'pre-season', 'world tournaments'}"
      ]
     },
     "execution_count": 16,
     "metadata": {},
     "output_type": "execute_result"
    }
   ],
   "source": [
    "# initialize a classifier with k = 5, the default option\n",
    "# fit the classifier according to our data in x_train and y_train\n",
    "classifier = KNeighborsClassifier(n_neighbors = 5)   \n",
    "classifier.fit(x_train, y_train)\n",
    "# predict on our x_test using the classifier\n",
    "y_pred = classifier.predict(x_test) \n",
    "print(\"confusion matrix:\")\n",
    "#output the resulting confusion matrix\n",
    "print(metrics.confusion_matrix(y_test, y_pred))\n",
    "print()\n",
    "print(\"rows/columns of the confusion matric are in this order: \")\n",
    "set(df_friendly['season_type'])"
   ]
  },
  {
   "cell_type": "code",
   "execution_count": 17,
   "metadata": {},
   "outputs": [
    {
     "name": "stdout",
     "output_type": "stream",
     "text": [
      "                     precision    recall  f1-score   support\n",
      "\n",
      "continental matches       0.27      0.28      0.28       867\n",
      "         off-season       0.20      0.49      0.29       619\n",
      "         pre-season       0.33      0.21      0.26       973\n",
      "  world tournaments       0.26      0.08      0.12       805\n",
      "\n",
      "           accuracy                           0.25      3264\n",
      "          macro avg       0.27      0.26      0.24      3264\n",
      "       weighted avg       0.27      0.25      0.23      3264\n",
      "\n"
     ]
    }
   ],
   "source": [
    "print(metrics.classification_report(y_test, y_pred))"
   ]
  },
  {
   "cell_type": "markdown",
   "metadata": {},
   "source": [
    "When looking at our result from the confusion matrix, we could see that the IV not being a great predictor. Since the results of the f1-score for all four classifications is shown to be less than 0.3. As f1-score is the harmonic between the precision and the recall, it is the best value to measure the accuracy of classification. Therefore, with the f1-scores all being less than 0.3, the IV here is not a great predictor for the classifications. More explicitly, we could see that the value of Precision is on average higher than that of recall, which tells us that our model is better at minimizing false positives compared to minimizing false negatives. However, the classification of off-season has a larger recall than that of precision. Interestingly, off-season is the classification that has the highest f1-score and the least amount of support out of the four. "
   ]
  },
  {
   "cell_type": "markdown",
   "metadata": {},
   "source": [
    "## K-Means Clustering"
   ]
  },
  {
   "cell_type": "code",
   "execution_count": 6,
   "metadata": {},
   "outputs": [],
   "source": [
    "import matplotlib.pyplot as plt # import matplotlib\n",
    "from sklearn.cluster import KMeans# import kmeans"
   ]
  },
  {
   "cell_type": "markdown",
   "metadata": {},
   "source": [
    "Note that we are taking out random observation in the original df_friendly data set, because of repeating server shutdowns when running silhouette score, we also setted a random_state/seed to keep our results constant for analysis."
   ]
  },
  {
   "cell_type": "code",
   "execution_count": 7,
   "metadata": {},
   "outputs": [],
   "source": [
    "# initialize a random seed, so that our randomization stays the same \n",
    "np.random.seed(33)\n",
    "# a mask used to randomize the data set\n",
    "mask = np.random.randint(len(df_friendly), size = 5000)\n",
    "# initialize a X value to hold the two variables we are using and scale them \n",
    "X = df_friendly.loc[mask][['season_num','scores_total']].values\n",
    "scaler = StandardScaler() \n",
    "scaled_data = scaler.fit_transform(X)"
   ]
  },
  {
   "cell_type": "code",
   "execution_count": 8,
   "metadata": {},
   "outputs": [],
   "source": [
    "# a function that calculates the k-means clustering with an arbitary k and variables season_num and scores_total\n",
    "def find_kmeans(k, data = scaled_data):\n",
    "    kmeans = KMeans(n_clusters = k, random_state = 98)\n",
    "    kmeans.fit(data) \n",
    "    return kmeans"
   ]
  },
  {
   "cell_type": "markdown",
   "metadata": {},
   "source": [
    "Graphs used below are used to find an optimal K"
   ]
  },
  {
   "cell_type": "code",
   "execution_count": 9,
   "metadata": {},
   "outputs": [],
   "source": [
    "# initialize two empty lists to generate sum of the squared error and the silhouette score\n",
    "sse = list() \n",
    "sh = list()\n",
    "# use a loop to calculate the sum of the squared error and silhouette score for each disginated cluster\n",
    "for k in range(1,11):\n",
    "    kmeans = find_kmeans(k, scaled_data)\n",
    "    sse.append(kmeans.inertia_)\n",
    "    if k > 1:\n",
    "        sh.append(metrics.silhouette_score(scaled_data, kmeans.labels_))"
   ]
  },
  {
   "cell_type": "code",
   "execution_count": 10,
   "metadata": {},
   "outputs": [
    {
     "data": {
      "image/png": "[encoded data removed]",
      "text/plain": [
       "<Figure size 864x432 with 1 Axes>"
      ]
     },
     "metadata": {
      "needs_background": "light"
     },
     "output_type": "display_data"
    }
   ],
   "source": [
    "plt.figure(figsize = (12, 6)) # generate a figure of designated size\n",
    "# plot the sum of the squared error \n",
    "plt.plot(range (1, len(sse) + 1), sse, color = 'red', linestyle = 'dashed', marker='o', markerfacecolor = 'blue', markersize = 10)\n",
    "# plot the x-axis and the labels\n",
    "plt.xticks(np.arange(0, 11, 1))\n",
    "plt.title('K-Means: Error Rate K Value')\n",
    "plt.xlabel('K Value')\n",
    "plt.ylabel('Squared Standard Error')\n",
    "plt.show()"
   ]
  },
  {
   "cell_type": "code",
   "execution_count": 12,
   "metadata": {},
   "outputs": [
    {
     "data": {
      "text/plain": [
       "3"
      ]
     },
     "execution_count": 12,
     "metadata": {},
     "output_type": "execute_result"
    }
   ],
   "source": [
    "from kneed import KneeLocator # import KneeLocator\n",
    "# locate the knee of the graph above\n",
    "kl = KneeLocator(range(1, 11), sse, curve = \"convex\", direction = \"decreasing\")\n",
    "kl.elbow"
   ]
  },
  {
   "cell_type": "code",
   "execution_count": 13,
   "metadata": {},
   "outputs": [
    {
     "data": {
      "image/png": "[encoded data removed]",
      "text/plain": [
       "<Figure size 864x432 with 1 Axes>"
      ]
     },
     "metadata": {
      "needs_background": "light"
     },
     "output_type": "display_data"
    }
   ],
   "source": [
    "plt.figure(figsize = (12, 6)) # generate a figure\n",
    "# plot the silhouette scores\n",
    "plt.plot(range (2, len(sh) + 2), sh, color = 'red', linestyle = 'dashed', marker='o', markerfacecolor = 'blue', markersize = 10)\n",
    "# plot the x-axis and the labels\n",
    "plt.xticks(np.arange(0, 11, 1))\n",
    "plt.title('K-Mean: Silhouette under K Value')\n",
    "plt.xlabel('K Value')\n",
    "plt.ylabel('Silhouette score')\n",
    "plt.show()"
   ]
  },
  {
   "cell_type": "markdown",
   "metadata": {},
   "source": [
    "Silhouette values, in general, should be intrepreted as a measure of how close samples are to their own clusters. When looking at the above graph, we could elminate k values of 2, 4 and 5 (without assigning random_state, the silhouette value would be different each time, but in my 10 runs, 2,4,5 on average have a low score) for their relative low values, especailly comparing with 3. Although, according to silhouette value along, it would suggest the k value with the highest score, such as 10. However, that k value is of course not optimal, and an optimal choice would be between 3,6,7,8 (without random_state, our value for 6, 7, 8 would vary, but on average in 10 runs, they are all relatively high)."
   ]
  },
  {
   "cell_type": "markdown",
   "metadata": {},
   "source": [
    "According to the results of the \"elbow method,\" we should use 3 clusters. While k value of 3 has a rather low silhouette score, it does seem to be more optimal compared with neighbors (2, 4, 5). If we use k value of 6 - 9, our kmeans clustering would be largely diverging from the \"elbow method.\" Thus, 3 is the most opitmal k-value. Additionally, just for refrence again, seasons numebrs are defined as: pre-season (1), world tournaments(0), continental matches(2), off-season (3)."
   ]
  },
  {
   "cell_type": "code",
   "execution_count": 14,
   "metadata": {},
   "outputs": [],
   "source": [
    "kmeans = find_kmeans(k = 3) # initialize kmeans with k = 3\n",
    "df_X = df_friendly.loc[mask].copy() # create a new dataframe with our random mask\n",
    "df_X['clust'] = kmeans.labels_ # insert a new columns that contains the assigned clusters\n",
    "# initialize another data frame that only contain the three needed columns\n",
    "clust_df = pd.DataFrame({'season_num': df_X['season_num'], 'scores_total': df_X['scores_total'], 'Cluster': df_X['clust']})"
   ]
  },
  {
   "cell_type": "code",
   "execution_count": 15,
   "metadata": {},
   "outputs": [
    {
     "data": {
      "image/png": "[encoded data removed]",
      "text/plain": [
       "<Figure size 432x288 with 1 Axes>"
      ]
     },
     "metadata": {
      "needs_background": "light"
     },
     "output_type": "display_data"
    }
   ],
   "source": [
    "# in a loop, plot out the unique observations for each cluster\n",
    "for clust in clust_df['Cluster'].unique():\n",
    "    # pull out the observations that is in the current cluster\n",
    "    sub = clust_df[clust_df['Cluster'] == clust]\n",
    "    # with the x axis being season_num and y being scores_total\n",
    "    plt.scatter(sub['season_num'], sub['scores_total'], label = 'Cluster {}'.format(clust)) \n",
    "# draw the labels, legends, and the x-axis of the graph\n",
    "plt.title('K-Means Clustering Assignments (k = 3)')\n",
    "plt.xticks(np.arange(0, 4, 1))\n",
    "plt.xlabel('Season Number')\n",
    "plt.ylabel('Total Scores')\n",
    "plt.legend(bbox_to_anchor=(1,1))\n",
    "plt.show()"
   ]
  },
  {
   "cell_type": "markdown",
   "metadata": {},
   "source": [
    "## Conclusion"
   ]
  },
  {
   "cell_type": "markdown",
   "metadata": {},
   "source": [
    "As I used the IV of scores_total to classify the observations into four classifications under KNN, the results are mostly unaccurate. Through the confusion matrix analysis, we got an f-1 score below 0.3 for all four classifications. This suggest that our IV in scores_total might not be a great predictor for the categorical variable in four season types. However, through clustering, my data does appear to be somewhat meaningful. Shown above, we could see that three clustors split, but ignore the one that contains all four seasons, two clusters separate (pre-season (1), world tournaments(0)) and (continental matches(2), off-season (3)) apart. While this clustering does not follow my conceptualization of the four seasons, the separation do follow my conceptualization. In simpler words, if I could only conceptualize two seasons, pre-season and world tournaments would become game season, continental matches and off-season would become off season. Thus, I tried to cluster my data with a k-number of 2, and the clustering is what I expected. Therefore, the reason for the inaccurate f-1 score seen in knn could be a result of a false conceptualization. On the other hand, there is also many limitations with this dataset. Other than the potential ethical issue in algorithmiclly favoring results from European/Latin America teams, the lack in optimal numeric variables is also problems, with the absence of match time, number of fouls, number of goals attempted... While it would be hard to get these information for each match, a lack in numeric variabls also limit the possibility of data analysis we could perform using the data. Lastly, it would be intreseting to do a linear regression using my transformed numeric variable, season_num, with scores_total, as I only performed a knn analysis."
   ]
  },
  {
   "cell_type": "code",
   "execution_count": 18,
   "metadata": {},
   "outputs": [
    {
     "data": {
      "image/png": "[encoded data removed]",
      "text/plain": [
       "<Figure size 432x288 with 1 Axes>"
      ]
     },
     "metadata": {
      "needs_background": "light"
     },
     "output_type": "display_data"
    }
   ],
   "source": [
    "kmeans2 = find_kmeans(k = 2) # initialize kmeans with k = 2\n",
    "df_X['clust'] = kmeans2.labels_ # insert the kmeans with k = 2 into the clust column of df_X\n",
    "# initialize another data frame that only contain the three needed columns\n",
    "clust_df2 = pd.DataFrame({'season_num': df_X['season_num'], 'scores_total': df_X['scores_total'], 'Cluster': df_X['clust']})\n",
    "# in a loop, plot out the unique observations for each cluster\n",
    "for clust in clust_df2['Cluster'].unique():\n",
    "     # mask the observations that is in the current cluster\n",
    "    sub = clust_df2[clust_df2['Cluster'] == clust]\n",
    "    plt.scatter(sub['season_num'], sub['scores_total'], label = 'Cluster {}'.format(clust)) # large amount of duplicates\n",
    "# draw the labels, legends, and the x-axis of the graph\n",
    "plt.title('K-Means Clustering Assignments (k = 2)')\n",
    "plt.xticks(np.arange(0, 4, 1))\n",
    "plt.xlabel('Season Type')\n",
    "plt.ylabel('Total Scores')\n",
    "plt.legend(bbox_to_anchor=(1,1))\n",
    "plt.show()"
   ]
  }
 ],
 "metadata": {
  "kernelspec": {
   "display_name": "Python 3",
   "language": "python",
   "name": "python3"
  },
  "language_info": {
   "codemirror_mode": {
    "name": "ipython",
    "version": 3
   },
   "file_extension": ".py",
   "mimetype": "text/x-python",
   "name": "python",
   "nbconvert_exporter": "python",
   "pygments_lexer": "ipython3",
   "version": "3.8.5"
  }
 },
 "nbformat": 4,
 "nbformat_minor": 4
}
